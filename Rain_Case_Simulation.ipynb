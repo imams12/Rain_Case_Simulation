{
  "nbformat": 4,
  "nbformat_minor": 0,
  "metadata": {
    "colab": {
      "name": "Rain_Case_Simulation.ipynb",
      "provenance": [],
      "authorship_tag": "ABX9TyPD7sazIw2C8OOt8LWEj0oG",
      "include_colab_link": true
    },
    "kernelspec": {
      "name": "python3",
      "display_name": "Python 3"
    },
    "language_info": {
      "name": "python"
    }
  },
  "cells": [
    {
      "cell_type": "markdown",
      "metadata": {
        "id": "view-in-github",
        "colab_type": "text"
      },
      "source": [
        "<a href=\"https://colab.research.google.com/github/imams12/Rain_Case_Simulation/blob/main/Rain_Case_Simulation.ipynb\" target=\"_parent\"><img src=\"https://colab.research.google.com/assets/colab-badge.svg\" alt=\"Open In Colab\"/></a>"
      ]
    },
    {
      "cell_type": "code",
      "metadata": {
        "id": "42kZ8XhKTtkI"
      },
      "source": [
        "# simulasi rantai markov untuk kasus hujan"
      ],
      "execution_count": 1,
      "outputs": []
    },
    {
      "cell_type": "code",
      "metadata": {
        "id": "JnKeYMZ1T4Oe"
      },
      "source": [
        "import numpy as np"
      ],
      "execution_count": 2,
      "outputs": []
    },
    {
      "cell_type": "code",
      "metadata": {
        "id": "Wum8U3EWT6p7"
      },
      "source": [
        "state = ['0','1','2','3']"
      ],
      "execution_count": 3,
      "outputs": []
    },
    {
      "cell_type": "code",
      "metadata": {
        "id": "aVL9k8xBUFM8"
      },
      "source": [
        "kemungkinan = [['00','01','02','03'],['10','11','12','13'],['20','21','22','23'],['30','31','32','33']]"
      ],
      "execution_count": 6,
      "outputs": []
    },
    {
      "cell_type": "code",
      "metadata": {
        "id": "P-laVuqdUpoh"
      },
      "source": [
        "matrixTrans = [[0.7, 0.0, 0.3, 0.0],[0.5, 0.0, 0.5, 0.0],[0.0, 0.4, 0.0, 0.6],[0.0, 0.2, 0.0, 0.8]]"
      ],
      "execution_count": 7,
      "outputs": []
    },
    {
      "cell_type": "code",
      "metadata": {
        "id": "4hrREFjgU1MC"
      },
      "source": [
        "# mau mencari peluang dari suatu hari hujan/ tidak jika diketahui n hari kebelakang hujan/ tidak\n",
        "def ramal_hujan (n_hari, nilai_awal):\n",
        "  cuaca_awal = nilai_awal\n",
        "  list_cuaca = [cuaca_awal]\n",
        "  peluang = 1\n",
        "  k = 0\n",
        "  while k < n_hari:\n",
        "    if cuaca_awal == '0':\n",
        "      kejadian = np.random.choice(kemungkinan[0])\n",
        "      if kejadian == '00':\n",
        "        peluang = peluang * matrixTrans[0][0]\n",
        "        cuaca_awal = '0'\n",
        "      elif kejadian == '01':\n",
        "        peluang = peluang * matrixTrans[0][1]\n",
        "        cuaca_awal = '1'\n",
        "      elif kejadian == '02':\n",
        "        peluang = peluang * matrixTrans[0][2]\n",
        "        cuaca_awal = '2'\n",
        "      elif kejadian == '03':\n",
        "        peluang = peluang * matrixTrans[0][3]\n",
        "        cuaca_awal = '3'\n",
        "      list_cuaca.append(cuaca_awal)\n",
        "    elif cuaca_awal == '1':\n",
        "      kejadian = np.random.choice(kemungkinan[1])\n",
        "      if kejadian == '10':\n",
        "        peluang = peluang * matrixTrans[1][0]\n",
        "        cuaca_awal = '0'\n",
        "      elif kejadian == '11':\n",
        "        peluang = peluang * matrixTrans[1][1]\n",
        "        cuaca_awal = '1'\n",
        "      elif kejadian == '12':\n",
        "        peluang = peluang * matrixTrans[1][2]\n",
        "        cuaca_awal = '2'\n",
        "      elif kejadian == '13':\n",
        "        peluang = peluang * matrixTrans[1][3]\n",
        "        cuaca_awal = '3'\n",
        "      list_cuaca.append(cuaca_awal)\n",
        "    elif cuaca_awal == '2':\n",
        "      kejadian = np.random.choice(kemungkinan[2])\n",
        "      if kejadian == '20':\n",
        "        peluang = peluang * matrixTrans[2][0]\n",
        "        cuaca_awal = '0'\n",
        "      elif kejadian == '21':\n",
        "        peluang = peluang * matrixTrans[2][1]\n",
        "        cuaca_awal = '1'\n",
        "      elif kejadian == '22':\n",
        "        peluang = peluang * matrixTrans[2][2]\n",
        "        cuaca_awal = '2'\n",
        "      elif kejadian == '23':\n",
        "        peluang = peluang * matrixTrans[2][3]\n",
        "        cuaca_awal = '3'\n",
        "      list_cuaca.append(cuaca_awal)\n",
        "    elif cuaca_awal == '3':\n",
        "      kejadian = np.random.choice(kemungkinan[3])\n",
        "      if kejadian == '30':\n",
        "        peluang = peluang * matrixTrans[3][0]\n",
        "        cuaca_awal = '0'\n",
        "      elif kejadian == '31':\n",
        "        peluang = peluang * matrixTrans[3][1]\n",
        "        cuaca_awal = '1'\n",
        "      elif kejadian == '32':\n",
        "        peluang = peluang * matrixTrans[3][2]\n",
        "        cuaca_awal = '2'\n",
        "      elif kejadian == '33':\n",
        "        peluang = peluang * matrixTrans[3][3]\n",
        "        cuaca_awal = '3'\n",
        "      list_cuaca.append(cuaca_awal)\n",
        "    k = k+1\n",
        "  return(list_cuaca, peluang)"
      ],
      "execution_count": 9,
      "outputs": []
    },
    {
      "cell_type": "code",
      "metadata": {
        "colab": {
          "base_uri": "https://localhost:8080/"
        },
        "id": "uv6SNXsJY5e8",
        "outputId": "8fdd3f7d-a976-4603-c6b7-0de056fa65f7"
      },
      "source": [
        "# 0: hujan,hujan 1:cerah,hujan 2:hujan,cerah 3:cerah,cerah\n",
        "n_hari= 2\n",
        "nilai_awal= '0'\n",
        "[daf_cuaca, peluang] = ramal_hujan(n_hari, nilai_awal)\n",
        "print(daf_cuaca)\n",
        "print(peluang)"
      ],
      "execution_count": 11,
      "outputs": [
        {
          "output_type": "stream",
          "name": "stdout",
          "text": [
            "['0', '0', '0']\n",
            "0.48999999999999994\n"
          ]
        }
      ]
    },
    {
      "cell_type": "code",
      "metadata": {
        "id": "ME6rNLG8Z6Gp"
      },
      "source": [
        "def paksa_ramal(nilai_awal, cuaca_H, n_hari):\n",
        "  for it in range(100000):\n",
        "    [daf_cuaca, peluang] = ramal_hujan(n_hari, nilai_awal)\n",
        "    if daf_cuaca[-1] == cuaca_H and peluang > 0:\n",
        "      break\n",
        "  return(daf_cuaca, peluang, it)"
      ],
      "execution_count": 30,
      "outputs": []
    },
    {
      "cell_type": "code",
      "metadata": {
        "colab": {
          "base_uri": "https://localhost:8080/"
        },
        "id": "FmcwgecCa9WU",
        "outputId": "fa6127a1-9079-4cad-ff5e-f77d28d45e3c"
      },
      "source": [
        "nhari= 10\n",
        "nilaiawal= '0'\n",
        "cuaca_H = '3'\n",
        "[daf_cuaca, peluang, iterasi] = paksa_ramal(nilaiawal, cuaca_H, nhari)\n",
        "print(daf_cuaca)\n",
        "print('%.11f'%peluang)\n",
        "print(iterasi)"
      ],
      "execution_count": 36,
      "outputs": [
        {
          "output_type": "stream",
          "name": "stdout",
          "text": [
            "['0', '2', '1', '0', '2', '1', '2', '3', '1', '2', '3']\n",
            "0.00012960000\n",
            "8138\n"
          ]
        }
      ]
    },
    {
      "cell_type": "code",
      "metadata": {
        "id": "4NHDQT8ebPCv"
      },
      "source": [
        ""
      ],
      "execution_count": 35,
      "outputs": []
    }
  ]
}